{
 "cells": [
  {
   "cell_type": "code",
   "execution_count": 87,
   "metadata": {},
   "outputs": [],
   "source": [
    "import os; os.environ['TF_CPP_MIN_LOG_LEVEL']='3'; \n",
    "import numpy as np\n",
    "import pandas as pd\n",
    "import tensorflow as tf\n",
    "import sklearn\n",
    "from sklearn import metrics as skmetrics\n",
    "import pickle\n",
    "from sklearn.model_selection import train_test_split\n",
    "import matplotlib.pyplot as plt\n",
    "from keras.callbacks import EarlyStopping, ModelCheckpoint\n",
    "from keras import backend as K\n",
    "from keras.utils.vis_utils import plot_model"
   ]
  },
  {
   "attachments": {},
   "cell_type": "markdown",
   "metadata": {},
   "source": [
    "**LOAD DATASETS**"
   ]
  },
  {
   "cell_type": "code",
   "execution_count": 88,
   "metadata": {},
   "outputs": [],
   "source": [
    "filename='dataset_training.csv'\n",
    "df_train=pd.read_csv(filename, nrows=4501, header=0,comment='#', na_values=[\"\"])"
   ]
  },
  {
   "cell_type": "code",
   "execution_count": 89,
   "metadata": {},
   "outputs": [
    {
     "data": {
      "text/html": [
       "<div>\n",
       "<style scoped>\n",
       "    .dataframe tbody tr th:only-of-type {\n",
       "        vertical-align: middle;\n",
       "    }\n",
       "\n",
       "    .dataframe tbody tr th {\n",
       "        vertical-align: top;\n",
       "    }\n",
       "\n",
       "    .dataframe thead th {\n",
       "        text-align: right;\n",
       "    }\n",
       "</style>\n",
       "<table border=\"1\" class=\"dataframe\">\n",
       "  <thead>\n",
       "    <tr style=\"text-align: right;\">\n",
       "      <th></th>\n",
       "      <th>dito1</th>\n",
       "      <th>dito2</th>\n",
       "      <th>dito3</th>\n",
       "      <th>dito4</th>\n",
       "      <th>target</th>\n",
       "    </tr>\n",
       "  </thead>\n",
       "  <tbody>\n",
       "    <tr>\n",
       "      <th>0</th>\n",
       "      <td>3830</td>\n",
       "      <td>6240</td>\n",
       "      <td>4307</td>\n",
       "      <td>5058</td>\n",
       "      <td>0</td>\n",
       "    </tr>\n",
       "    <tr>\n",
       "      <th>1</th>\n",
       "      <td>3830</td>\n",
       "      <td>6240</td>\n",
       "      <td>4307</td>\n",
       "      <td>5058</td>\n",
       "      <td>0</td>\n",
       "    </tr>\n",
       "    <tr>\n",
       "      <th>2</th>\n",
       "      <td>3881</td>\n",
       "      <td>6208</td>\n",
       "      <td>4280</td>\n",
       "      <td>5041</td>\n",
       "      <td>0</td>\n",
       "    </tr>\n",
       "    <tr>\n",
       "      <th>3</th>\n",
       "      <td>3881</td>\n",
       "      <td>6208</td>\n",
       "      <td>4280</td>\n",
       "      <td>5041</td>\n",
       "      <td>0</td>\n",
       "    </tr>\n",
       "    <tr>\n",
       "      <th>4</th>\n",
       "      <td>3818</td>\n",
       "      <td>6089</td>\n",
       "      <td>4194</td>\n",
       "      <td>4965</td>\n",
       "      <td>0</td>\n",
       "    </tr>\n",
       "  </tbody>\n",
       "</table>\n",
       "</div>"
      ],
      "text/plain": [
       "   dito1  dito2  dito3  dito4  target\n",
       "0   3830   6240   4307   5058       0\n",
       "1   3830   6240   4307   5058       0\n",
       "2   3881   6208   4280   5041       0\n",
       "3   3881   6208   4280   5041       0\n",
       "4   3818   6089   4194   4965       0"
      ]
     },
     "execution_count": 89,
     "metadata": {},
     "output_type": "execute_result"
    }
   ],
   "source": [
    "df_train.head()"
   ]
  },
  {
   "cell_type": "code",
   "execution_count": 90,
   "metadata": {},
   "outputs": [
    {
     "name": "stdout",
     "output_type": "stream",
     "text": [
      "Input shape (X): (4500, 4) --- Output shape (y): (4500,)\n"
     ]
    }
   ],
   "source": [
    "# Data preparation\n",
    "X_train = df_train.drop(['target'], axis = 1).values\n",
    "y_train = df_train['target'].values\n",
    "\n",
    "print(\"Input shape (X): {} --- Output shape (y): {}\".format(X_train.shape, y_train.shape))"
   ]
  },
  {
   "cell_type": "code",
   "execution_count": 91,
   "metadata": {},
   "outputs": [
    {
     "name": "stdout",
     "output_type": "stream",
     "text": [
      "[[ 3830  6240  4307  5058]\n",
      " [ 3830  6240  4307  5058]\n",
      " [ 3881  6208  4280  5041]\n",
      " ...\n",
      " [ 6378 10103  7613  8403]\n",
      " [ 6407 10122  7623  8428]\n",
      " [ 6407 10122  7623  8428]]\n"
     ]
    }
   ],
   "source": [
    "print(X_train)"
   ]
  },
  {
   "cell_type": "code",
   "execution_count": 92,
   "metadata": {},
   "outputs": [
    {
     "name": "stdout",
     "output_type": "stream",
     "text": [
      "[0 0 0 ... 2 2 2]\n"
     ]
    }
   ],
   "source": [
    "print(y_train)"
   ]
  },
  {
   "cell_type": "code",
   "execution_count": 93,
   "metadata": {},
   "outputs": [
    {
     "data": {
      "text/html": [
       "<div>\n",
       "<style scoped>\n",
       "    .dataframe tbody tr th:only-of-type {\n",
       "        vertical-align: middle;\n",
       "    }\n",
       "\n",
       "    .dataframe tbody tr th {\n",
       "        vertical-align: top;\n",
       "    }\n",
       "\n",
       "    .dataframe thead th {\n",
       "        text-align: right;\n",
       "    }\n",
       "</style>\n",
       "<table border=\"1\" class=\"dataframe\">\n",
       "  <thead>\n",
       "    <tr style=\"text-align: right;\">\n",
       "      <th></th>\n",
       "      <th>dito1</th>\n",
       "      <th>dito2</th>\n",
       "      <th>dito3</th>\n",
       "      <th>dito4</th>\n",
       "      <th>target</th>\n",
       "    </tr>\n",
       "  </thead>\n",
       "  <tbody>\n",
       "    <tr>\n",
       "      <th>0</th>\n",
       "      <td>4166</td>\n",
       "      <td>6040</td>\n",
       "      <td>4167</td>\n",
       "      <td>4657</td>\n",
       "      <td>0</td>\n",
       "    </tr>\n",
       "    <tr>\n",
       "      <th>1</th>\n",
       "      <td>4166</td>\n",
       "      <td>6040</td>\n",
       "      <td>4167</td>\n",
       "      <td>4657</td>\n",
       "      <td>0</td>\n",
       "    </tr>\n",
       "    <tr>\n",
       "      <th>2</th>\n",
       "      <td>4151</td>\n",
       "      <td>6033</td>\n",
       "      <td>4151</td>\n",
       "      <td>4632</td>\n",
       "      <td>0</td>\n",
       "    </tr>\n",
       "    <tr>\n",
       "      <th>3</th>\n",
       "      <td>4151</td>\n",
       "      <td>6033</td>\n",
       "      <td>4151</td>\n",
       "      <td>4632</td>\n",
       "      <td>0</td>\n",
       "    </tr>\n",
       "    <tr>\n",
       "      <th>4</th>\n",
       "      <td>4168</td>\n",
       "      <td>6035</td>\n",
       "      <td>4157</td>\n",
       "      <td>4648</td>\n",
       "      <td>0</td>\n",
       "    </tr>\n",
       "  </tbody>\n",
       "</table>\n",
       "</div>"
      ],
      "text/plain": [
       "   dito1  dito2  dito3  dito4  target\n",
       "0   4166   6040   4167   4657       0\n",
       "1   4166   6040   4167   4657       0\n",
       "2   4151   6033   4151   4632       0\n",
       "3   4151   6033   4151   4632       0\n",
       "4   4168   6035   4157   4648       0"
      ]
     },
     "execution_count": 93,
     "metadata": {},
     "output_type": "execute_result"
    }
   ],
   "source": [
    "filename='dataset_test.csv'\n",
    "df_test=pd.read_csv(filename, nrows=1501, header=0,comment='#', na_values=[\"\"])\n",
    "df_test.head()"
   ]
  },
  {
   "cell_type": "code",
   "execution_count": 94,
   "metadata": {},
   "outputs": [
    {
     "name": "stdout",
     "output_type": "stream",
     "text": [
      "Input shape (X): (1500, 4) --- Output shape (y): (1500,)\n"
     ]
    }
   ],
   "source": [
    "# Data preparation\n",
    "X_test = df_test.drop(['target'], axis = 1).values\n",
    "y_test = df_test['target'].values\n",
    "\n",
    "print(\"Input shape (X): {} --- Output shape (y): {}\".format(X_test.shape, y_test.shape))"
   ]
  },
  {
   "cell_type": "code",
   "execution_count": 95,
   "metadata": {},
   "outputs": [
    {
     "name": "stdout",
     "output_type": "stream",
     "text": [
      "[[ 4166  6040  4167  4657]\n",
      " [ 4166  6040  4167  4657]\n",
      " [ 4151  6033  4151  4632]\n",
      " ...\n",
      " [ 4733 10066  8074  8211]\n",
      " [ 4783 10123  8209  8271]\n",
      " [ 4783 10123  8209  8271]]\n",
      "[0 0 0 ... 2 2 2]\n"
     ]
    }
   ],
   "source": [
    "print(X_test)\n",
    "print(y_test)"
   ]
  },
  {
   "attachments": {},
   "cell_type": "markdown",
   "metadata": {},
   "source": [
    "**MODEL DEFINITION**"
   ]
  },
  {
   "cell_type": "code",
   "execution_count": 96,
   "metadata": {},
   "outputs": [],
   "source": [
    "shape=(4500,4)"
   ]
  },
  {
   "cell_type": "code",
   "execution_count": 97,
   "metadata": {},
   "outputs": [],
   "source": [
    "input = tf.keras.layers.Input(shape)\n",
    "\n",
    "D1 = tf.keras.layers.Dense(units=64, activation='relu', use_bias=True)(input)\n",
    "\n",
    "D2 = tf.keras.layers.Dense(units=32, activation='relu', use_bias=True)(D1)\n",
    "\n",
    "output = tf.keras.layers.Dense(units=3, activation='softmax')(D2)"
   ]
  },
  {
   "cell_type": "code",
   "execution_count": 98,
   "metadata": {},
   "outputs": [],
   "source": [
    "model= tf.keras.Model(inputs= input, outputs=output, name= \"model\")"
   ]
  },
  {
   "cell_type": "code",
   "execution_count": 99,
   "metadata": {},
   "outputs": [
    {
     "name": "stdout",
     "output_type": "stream",
     "text": [
      "Model: \"model\"\n",
      "_________________________________________________________________\n",
      " Layer (type)                Output Shape              Param #   \n",
      "=================================================================\n",
      " input_8 (InputLayer)        [(None, 4500, 4)]         0         \n",
      "                                                                 \n",
      " dense_21 (Dense)            (None, 4500, 64)          320       \n",
      "                                                                 \n",
      " dense_22 (Dense)            (None, 4500, 32)          2080      \n",
      "                                                                 \n",
      " dense_23 (Dense)            (None, 4500, 3)           99        \n",
      "                                                                 \n",
      "=================================================================\n",
      "Total params: 2,499\n",
      "Trainable params: 2,499\n",
      "Non-trainable params: 0\n",
      "_________________________________________________________________\n"
     ]
    }
   ],
   "source": [
    "model.summary()"
   ]
  },
  {
   "attachments": {},
   "cell_type": "markdown",
   "metadata": {},
   "source": [
    "*Set batch size*"
   ]
  },
  {
   "cell_type": "code",
   "execution_count": 100,
   "metadata": {},
   "outputs": [],
   "source": [
    "# SET BATCH SIZE\n",
    "batch_size = 150\n",
    "#Steps per epoch depend on the batch size\n",
    "steps = 4500//batch_size"
   ]
  },
  {
   "attachments": {},
   "cell_type": "markdown",
   "metadata": {},
   "source": [
    "**COMPILATION**"
   ]
  },
  {
   "attachments": {},
   "cell_type": "markdown",
   "metadata": {},
   "source": [
    "*Custom Loss*"
   ]
  },
  {
   "cell_type": "code",
   "execution_count": 101,
   "metadata": {},
   "outputs": [],
   "source": [
    "bce = tf.keras.losses.BinaryCrossentropy(reduction=tf.keras.losses.Reduction.SUM)\n",
    "def custom_crossentropy(bce):\n",
    "    def loss(y_train, y_pred):\n",
    "      \n",
    "      #y_train = y_train[:,0:2]\n",
    "      \n",
    "      unweighted_loss = bce(y_train, y_pred)\n",
    "      return unweighted_loss  \n",
    "\n",
    "    return loss"
   ]
  },
  {
   "attachments": {},
   "cell_type": "markdown",
   "metadata": {},
   "source": [
    "*Custom Metrics*"
   ]
  },
  {
   "cell_type": "code",
   "execution_count": 102,
   "metadata": {},
   "outputs": [],
   "source": [
    "def recall(y_train, y_pred):\n",
    "    true_positives = K.sum(K.round(K.clip(y_train * y_pred, 0, 1)))\n",
    "    possible_positives = K.sum(K.round(K.clip(y_train, 0, 1)))\n",
    "    recall_v = true_positives / (possible_positives + K.epsilon())\n",
    "    return recall_v\n",
    "\n",
    "def precision(y_train, y_pred):\n",
    "    true_positives = K.sum(K.round(K.clip(y_train * y_pred, 0, 1)))\n",
    "    predicted_positives = K.sum(K.round(K.clip(y_pred, 0, 1)))\n",
    "    precision_v = true_positives / (predicted_positives + K.epsilon())\n",
    "    return precision_v\n",
    "\n",
    "def f1score(y_train, y_pred):\n",
    "    precision_v = precision(y_train, y_pred)\n",
    "    recall_v = recall(y_train, y_pred)\n",
    "    return 2*((precision_v*recall_v)/(precision_v+recall_v+K.epsilon()))"
   ]
  },
  {
   "attachments": {},
   "cell_type": "markdown",
   "metadata": {},
   "source": [
    "*Model*"
   ]
  },
  {
   "cell_type": "code",
   "execution_count": 103,
   "metadata": {},
   "outputs": [],
   "source": [
    "adam=tf.keras.optimizers.Adam(learning_rate=0.001, beta_1=0.9, beta_2=0.999, amsgrad=False)\n",
    "\n",
    "model.compile(\n",
    "    loss= custom_crossentropy(bce),\n",
    "    optimizer=adam,\n",
    "    metrics=['acc',f1score,precision, recall]\n",
    ")"
   ]
  },
  {
   "cell_type": "code",
   "execution_count": 104,
   "metadata": {},
   "outputs": [
    {
     "name": "stdout",
     "output_type": "stream",
     "text": [
      "You must install pydot (`pip install pydot`) and install graphviz (see instructions at https://graphviz.gitlab.io/download/) for plot_model to work.\n"
     ]
    }
   ],
   "source": [
    "plot_model(model,show_shapes=True, show_layer_names=True)"
   ]
  },
  {
   "attachments": {},
   "cell_type": "markdown",
   "metadata": {},
   "source": [
    "**Checkpoints definition MODEL1**"
   ]
  },
  {
   "cell_type": "code",
   "execution_count": 105,
   "metadata": {},
   "outputs": [],
   "source": [
    "earlystop_patience = 10 # \n",
    "earlystopper = EarlyStopping(patience=earlystop_patience, verbose=1)"
   ]
  },
  {
   "cell_type": "code",
   "execution_count": 106,
   "metadata": {},
   "outputs": [],
   "source": [
    "#root = '\\Users\\Windows\\Desktop\\Magistrale\\II_primo_semestre\\Project  Lab Sens\\AY2223_I_Project-3\\PYTHON'\n",
    "BASE_DIR = os.getcwd()\n",
    "CALLBACKS_FOLDER =  os.path.join(BASE_DIR, 'MODEL_no_res')\n",
    "os.makedirs(CALLBACKS_FOLDER, exist_ok=True)"
   ]
  },
  {
   "cell_type": "code",
   "execution_count": 107,
   "metadata": {},
   "outputs": [
    {
     "name": "stdout",
     "output_type": "stream",
     "text": [
      "WARNING:tensorflow:`period` argument is deprecated. Please use `save_freq` to specify the frequency in number of batches seen.\n"
     ]
    }
   ],
   "source": [
    "# Example of checkpointer based on values of F1-score in the validation set \n",
    "checkpointer_val_f1score = ModelCheckpoint(filepath=CALLBACKS_FOLDER + \"/best_max_val_f1score_no_res.h5\",\n",
    "                                          monitor='val_f1score',\n",
    "                                          verbose=1,\n",
    "                                          save_best_only=True,\n",
    "                                          mode='max',\n",
    "                                          period=1)\n"
   ]
  },
  {
   "attachments": {},
   "cell_type": "markdown",
   "metadata": {},
   "source": [
    "**MODEL TRAINIG**"
   ]
  },
  {
   "cell_type": "code",
   "execution_count": 108,
   "metadata": {},
   "outputs": [
    {
     "ename": "SyntaxError",
     "evalue": "invalid syntax (3358701766.py, line 2)",
     "output_type": "error",
     "traceback": [
      "\u001b[1;36m  Cell \u001b[1;32mIn[108], line 2\u001b[1;36m\u001b[0m\n\u001b[1;33m    validation_data = (X_test,y_test), #Give directly all images and labels for the validation set.\u001b[0m\n\u001b[1;37m    ^\u001b[0m\n\u001b[1;31mSyntaxError\u001b[0m\u001b[1;31m:\u001b[0m invalid syntax\n"
     ]
    }
   ],
   "source": [
    "history1 = model.fit(x=X_train,y=y_train #Give the generator as input data\n",
    "          validation_data = (X_test,y_test), #Give directly all images and labels for the validation set. \n",
    "          epochs = 30, steps_per_epoch = 30,\n",
    "          callbacks =[earlystopper,checkpointer_val_f1score], #Multiple checkpointer can be considered\n",
    "          verbose =1)"
   ]
  }
 ],
 "metadata": {
  "kernelspec": {
   "display_name": "venv_new",
   "language": "python",
   "name": "python3"
  },
  "language_info": {
   "codemirror_mode": {
    "name": "ipython",
    "version": 3
   },
   "file_extension": ".py",
   "mimetype": "text/x-python",
   "name": "python",
   "nbconvert_exporter": "python",
   "pygments_lexer": "ipython3",
   "version": "3.9.0"
  },
  "orig_nbformat": 4,
  "vscode": {
   "interpreter": {
    "hash": "653d0989e5ee5c3f07b3ee3b591968c798c50f31240a620c1947e5fc171539c7"
   }
  }
 },
 "nbformat": 4,
 "nbformat_minor": 2
}
