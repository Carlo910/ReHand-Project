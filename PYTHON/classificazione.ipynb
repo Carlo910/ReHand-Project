{
 "cells": [
  {
   "cell_type": "code",
   "execution_count": 103,
   "metadata": {},
   "outputs": [],
   "source": [
    "import os; os.environ['TF_CPP_MIN_LOG_LEVEL']='3'; \n",
    "import numpy as np\n",
    "import pandas as pd\n",
    "import tensorflow as tf\n",
    "import sklearn\n",
    "from sklearn import metrics as skmetrics\n",
    "import pickle\n",
    "from sklearn.model_selection import train_test_split\n",
    "import matplotlib.pyplot as plt\n",
    "from keras.callbacks import EarlyStopping, ModelCheckpoint\n",
    "from keras import backend as K\n",
    "from keras.utils.vis_utils import plot_model\n"
   ]
  },
  {
   "attachments": {},
   "cell_type": "markdown",
   "metadata": {},
   "source": [
    "**LOAD DATASETS**"
   ]
  },
  {
   "cell_type": "code",
   "execution_count": 60,
   "metadata": {},
   "outputs": [],
   "source": [
    "filename='dataset_training.csv'\n",
    "df_train=pd.read_csv(filename, nrows=4501, header=0,comment='#', na_values=[\"\"])"
   ]
  },
  {
   "cell_type": "code",
   "execution_count": 61,
   "metadata": {},
   "outputs": [
    {
     "data": {
      "text/html": [
       "<div>\n",
       "<style scoped>\n",
       "    .dataframe tbody tr th:only-of-type {\n",
       "        vertical-align: middle;\n",
       "    }\n",
       "\n",
       "    .dataframe tbody tr th {\n",
       "        vertical-align: top;\n",
       "    }\n",
       "\n",
       "    .dataframe thead th {\n",
       "        text-align: right;\n",
       "    }\n",
       "</style>\n",
       "<table border=\"1\" class=\"dataframe\">\n",
       "  <thead>\n",
       "    <tr style=\"text-align: right;\">\n",
       "      <th></th>\n",
       "      <th>dito1</th>\n",
       "      <th>dito2</th>\n",
       "      <th>dito3</th>\n",
       "      <th>dito4</th>\n",
       "      <th>target</th>\n",
       "    </tr>\n",
       "  </thead>\n",
       "  <tbody>\n",
       "    <tr>\n",
       "      <th>0</th>\n",
       "      <td>3830</td>\n",
       "      <td>6240</td>\n",
       "      <td>4307</td>\n",
       "      <td>5058</td>\n",
       "      <td>0</td>\n",
       "    </tr>\n",
       "    <tr>\n",
       "      <th>1</th>\n",
       "      <td>3830</td>\n",
       "      <td>6240</td>\n",
       "      <td>4307</td>\n",
       "      <td>5058</td>\n",
       "      <td>0</td>\n",
       "    </tr>\n",
       "    <tr>\n",
       "      <th>2</th>\n",
       "      <td>3881</td>\n",
       "      <td>6208</td>\n",
       "      <td>4280</td>\n",
       "      <td>5041</td>\n",
       "      <td>0</td>\n",
       "    </tr>\n",
       "    <tr>\n",
       "      <th>3</th>\n",
       "      <td>3881</td>\n",
       "      <td>6208</td>\n",
       "      <td>4280</td>\n",
       "      <td>5041</td>\n",
       "      <td>0</td>\n",
       "    </tr>\n",
       "    <tr>\n",
       "      <th>4</th>\n",
       "      <td>3818</td>\n",
       "      <td>6089</td>\n",
       "      <td>4194</td>\n",
       "      <td>4965</td>\n",
       "      <td>0</td>\n",
       "    </tr>\n",
       "  </tbody>\n",
       "</table>\n",
       "</div>"
      ],
      "text/plain": [
       "   dito1  dito2  dito3  dito4  target\n",
       "0   3830   6240   4307   5058       0\n",
       "1   3830   6240   4307   5058       0\n",
       "2   3881   6208   4280   5041       0\n",
       "3   3881   6208   4280   5041       0\n",
       "4   3818   6089   4194   4965       0"
      ]
     },
     "execution_count": 61,
     "metadata": {},
     "output_type": "execute_result"
    }
   ],
   "source": [
    "df_train.head()"
   ]
  },
  {
   "cell_type": "code",
   "execution_count": 76,
   "metadata": {},
   "outputs": [
    {
     "name": "stdout",
     "output_type": "stream",
     "text": [
      "Input shape (X): (4500, 4) --- Output shape (y): (4500,)\n"
     ]
    }
   ],
   "source": [
    "# Data preparation\n",
    "X_train = df_train.drop(['target'], axis = 1).values\n",
    "y_train = df_train['target'].values\n",
    "\n",
    "print(\"Input shape (X): {} --- Output shape (y): {}\".format(X_train.shape, y_train.shape))"
   ]
  },
  {
   "cell_type": "code",
   "execution_count": 77,
   "metadata": {},
   "outputs": [
    {
     "name": "stdout",
     "output_type": "stream",
     "text": [
      "[[ 3830  6240  4307  5058]\n",
      " [ 3830  6240  4307  5058]\n",
      " [ 3881  6208  4280  5041]\n",
      " ...\n",
      " [ 6378 10103  7613  8403]\n",
      " [ 6407 10122  7623  8428]\n",
      " [ 6407 10122  7623  8428]]\n"
     ]
    }
   ],
   "source": [
    "print(X_train)"
   ]
  },
  {
   "cell_type": "code",
   "execution_count": 78,
   "metadata": {},
   "outputs": [
    {
     "name": "stdout",
     "output_type": "stream",
     "text": [
      "[0 0 0 ... 2 2 2]\n"
     ]
    }
   ],
   "source": [
    "print(y_train)"
   ]
  },
  {
   "cell_type": "code",
   "execution_count": 79,
   "metadata": {},
   "outputs": [
    {
     "data": {
      "text/html": [
       "<div>\n",
       "<style scoped>\n",
       "    .dataframe tbody tr th:only-of-type {\n",
       "        vertical-align: middle;\n",
       "    }\n",
       "\n",
       "    .dataframe tbody tr th {\n",
       "        vertical-align: top;\n",
       "    }\n",
       "\n",
       "    .dataframe thead th {\n",
       "        text-align: right;\n",
       "    }\n",
       "</style>\n",
       "<table border=\"1\" class=\"dataframe\">\n",
       "  <thead>\n",
       "    <tr style=\"text-align: right;\">\n",
       "      <th></th>\n",
       "      <th>dito1</th>\n",
       "      <th>dito2</th>\n",
       "      <th>dito3</th>\n",
       "      <th>dito4</th>\n",
       "      <th>target</th>\n",
       "    </tr>\n",
       "  </thead>\n",
       "  <tbody>\n",
       "    <tr>\n",
       "      <th>0</th>\n",
       "      <td>4166</td>\n",
       "      <td>6040</td>\n",
       "      <td>4167</td>\n",
       "      <td>4657</td>\n",
       "      <td>0</td>\n",
       "    </tr>\n",
       "    <tr>\n",
       "      <th>1</th>\n",
       "      <td>4166</td>\n",
       "      <td>6040</td>\n",
       "      <td>4167</td>\n",
       "      <td>4657</td>\n",
       "      <td>0</td>\n",
       "    </tr>\n",
       "    <tr>\n",
       "      <th>2</th>\n",
       "      <td>4151</td>\n",
       "      <td>6033</td>\n",
       "      <td>4151</td>\n",
       "      <td>4632</td>\n",
       "      <td>0</td>\n",
       "    </tr>\n",
       "    <tr>\n",
       "      <th>3</th>\n",
       "      <td>4151</td>\n",
       "      <td>6033</td>\n",
       "      <td>4151</td>\n",
       "      <td>4632</td>\n",
       "      <td>0</td>\n",
       "    </tr>\n",
       "    <tr>\n",
       "      <th>4</th>\n",
       "      <td>4168</td>\n",
       "      <td>6035</td>\n",
       "      <td>4157</td>\n",
       "      <td>4648</td>\n",
       "      <td>0</td>\n",
       "    </tr>\n",
       "  </tbody>\n",
       "</table>\n",
       "</div>"
      ],
      "text/plain": [
       "   dito1  dito2  dito3  dito4  target\n",
       "0   4166   6040   4167   4657       0\n",
       "1   4166   6040   4167   4657       0\n",
       "2   4151   6033   4151   4632       0\n",
       "3   4151   6033   4151   4632       0\n",
       "4   4168   6035   4157   4648       0"
      ]
     },
     "execution_count": 79,
     "metadata": {},
     "output_type": "execute_result"
    }
   ],
   "source": [
    "filename='dataset_test.csv'\n",
    "df_test=pd.read_csv(filename, nrows=1501, header=0,comment='#', na_values=[\"\"])\n",
    "df_test.head()"
   ]
  },
  {
   "cell_type": "code",
   "execution_count": 80,
   "metadata": {},
   "outputs": [
    {
     "name": "stdout",
     "output_type": "stream",
     "text": [
      "Input shape (X): (1500, 4) --- Output shape (y): (1500,)\n"
     ]
    }
   ],
   "source": [
    "# Data preparation\n",
    "X_test = df_test.drop(['target'], axis = 1).values\n",
    "y_test = df_test['target'].values\n",
    "\n",
    "print(\"Input shape (X): {} --- Output shape (y): {}\".format(X_test.shape, y_test.shape))"
   ]
  },
  {
   "cell_type": "code",
   "execution_count": 81,
   "metadata": {},
   "outputs": [
    {
     "name": "stdout",
     "output_type": "stream",
     "text": [
      "[[ 4166  6040  4167  4657]\n",
      " [ 4166  6040  4167  4657]\n",
      " [ 4151  6033  4151  4632]\n",
      " ...\n",
      " [ 4733 10066  8074  8211]\n",
      " [ 4783 10123  8209  8271]\n",
      " [ 4783 10123  8209  8271]]\n",
      "[0 0 0 ... 2 2 2]\n"
     ]
    }
   ],
   "source": [
    "print(X_test)\n",
    "print(y_test)"
   ]
  },
  {
   "attachments": {},
   "cell_type": "markdown",
   "metadata": {},
   "source": [
    "**MODEL DEFINITION**"
   ]
  },
  {
   "cell_type": "code",
   "execution_count": 82,
   "metadata": {},
   "outputs": [],
   "source": [
    "input = tf.keras.layers.Input(shape=(4500,4), batch_size= 150)\n",
    "\n",
    "D1 = tf.keras.layers.Dense(units=64, activation='relu', use_bias=True)(input)\n",
    "\n",
    "D2 = tf.keras.layers.Dense(units=32, activation='relu', use_bias=True)(D1)\n",
    "\n",
    "output = tf.keras.layers.Dense(units=3, activation='softmax')(D2)"
   ]
  },
  {
   "cell_type": "code",
   "execution_count": 83,
   "metadata": {},
   "outputs": [],
   "source": [
    "model= tf.keras.Model(inputs= input, outputs=output, name= \"model\")"
   ]
  },
  {
   "cell_type": "code",
   "execution_count": 84,
   "metadata": {},
   "outputs": [
    {
     "name": "stdout",
     "output_type": "stream",
     "text": [
      "Model: \"model\"\n",
      "_________________________________________________________________\n",
      " Layer (type)                Output Shape              Param #   \n",
      "=================================================================\n",
      " input_5 (InputLayer)        [(150, 4500, 4)]          0         \n",
      "                                                                 \n",
      " dense_6 (Dense)             (150, 4500, 64)           320       \n",
      "                                                                 \n",
      " dense_7 (Dense)             (150, 4500, 32)           2080      \n",
      "                                                                 \n",
      " dense_8 (Dense)             (150, 4500, 3)            99        \n",
      "                                                                 \n",
      "=================================================================\n",
      "Total params: 2,499\n",
      "Trainable params: 2,499\n",
      "Non-trainable params: 0\n",
      "_________________________________________________________________\n"
     ]
    }
   ],
   "source": [
    "model.summary()"
   ]
  },
  {
   "attachments": {},
   "cell_type": "markdown",
   "metadata": {},
   "source": [
    "**COMPILATION**"
   ]
  },
  {
   "attachments": {},
   "cell_type": "markdown",
   "metadata": {},
   "source": [
    "*Custom Loss*"
   ]
  },
  {
   "cell_type": "code",
   "execution_count": 86,
   "metadata": {},
   "outputs": [],
   "source": [
    "bce = tf.keras.losses.BinaryCrossentropy(reduction=tf.keras.losses.Reduction.SUM)\n",
    "def custom_crossentropy(bce):\n",
    "    def loss(y_train, y_pred):\n",
    "      \n",
    "      #y_train = y_train[:,0:2]\n",
    "      \n",
    "      unweighted_loss = bce(y_train, y_pred)\n",
    "      return unweighted_loss  \n",
    "\n",
    "    return loss"
   ]
  },
  {
   "attachments": {},
   "cell_type": "markdown",
   "metadata": {},
   "source": [
    "*Custom Metrics*"
   ]
  },
  {
   "cell_type": "code",
   "execution_count": 88,
   "metadata": {},
   "outputs": [],
   "source": [
    "def recall(y_train, y_pred):\n",
    "    true_positives = K.sum(K.round(K.clip(y_train * y_pred, 0, 1)))\n",
    "    possible_positives = K.sum(K.round(K.clip(y_train, 0, 1)))\n",
    "    recall_v = true_positives / (possible_positives + K.epsilon())\n",
    "    return recall_v\n",
    "\n",
    "def precision(y_train, y_pred):\n",
    "    true_positives = K.sum(K.round(K.clip(y_train * y_pred, 0, 1)))\n",
    "    predicted_positives = K.sum(K.round(K.clip(y_pred, 0, 1)))\n",
    "    precision_v = true_positives / (predicted_positives + K.epsilon())\n",
    "    return precision_v\n",
    "\n",
    "def f1score(y_train, y_pred):\n",
    "    precision_v = precision(y_train, y_pred)\n",
    "    recall_v = recall(y_train, y_pred)\n",
    "    return 2*((precision_v*recall_v)/(precision_v+recall_v+K.epsilon()))"
   ]
  },
  {
   "attachments": {},
   "cell_type": "markdown",
   "metadata": {},
   "source": [
    "*Model*"
   ]
  },
  {
   "cell_type": "code",
   "execution_count": 91,
   "metadata": {},
   "outputs": [],
   "source": [
    "adam=tf.keras.optimizers.Adam(learning_rate=0.001, beta_1=0.9, beta_2=0.999, amsgrad=False)\n",
    "\n",
    "model.compile(\n",
    "    loss= custom_crossentropy(bce),\n",
    "    optimizer=adam,\n",
    "    metrics=['acc',f1score,precision, recall]\n",
    ")"
   ]
  },
  {
   "cell_type": "code",
   "execution_count": 99,
   "metadata": {},
   "outputs": [
    {
     "name": "stdout",
     "output_type": "stream",
     "text": [
      "You must install pydot (`pip install pydot`) and install graphviz (see instructions at https://graphviz.gitlab.io/download/) for plot_model to work.\n"
     ]
    }
   ],
   "source": [
    "plot_model(model,show_shapes=True, show_layer_names=True)"
   ]
  },
  {
   "attachments": {},
   "cell_type": "markdown",
   "metadata": {},
   "source": [
    "**Checkpoints definition MODEL1**"
   ]
  },
  {
   "cell_type": "code",
   "execution_count": 100,
   "metadata": {},
   "outputs": [],
   "source": [
    "earlystop_patience = 10 # \n",
    "earlystopper = EarlyStopping(patience=earlystop_patience, verbose=1)"
   ]
  },
  {
   "cell_type": "code",
   "execution_count": 102,
   "metadata": {},
   "outputs": [],
   "source": [
    "#root = '\\Users\\Windows\\Desktop\\Magistrale\\II_primo_semestre\\Project  Lab Sens\\AY2223_I_Project-3\\PYTHON'\n",
    "BASE_DIR = os.getcwd()\n",
    "CALLBACKS_FOLDER =  os.path.join(BASE_DIR, 'MODEL_no_res')\n",
    "os.makedirs(CALLBACKS_FOLDER, exist_ok=True)"
   ]
  },
  {
   "cell_type": "code",
   "execution_count": 105,
   "metadata": {},
   "outputs": [
    {
     "name": "stdout",
     "output_type": "stream",
     "text": [
      "WARNING:tensorflow:`period` argument is deprecated. Please use `save_freq` to specify the frequency in number of batches seen.\n"
     ]
    }
   ],
   "source": [
    "# Example of checkpointer based on values of F1-score in the validation set \n",
    "checkpointer_val_f1score = ModelCheckpoint(filepath=CALLBACKS_FOLDER + \"/best_max_val_f1score_no_res.h5\",\n",
    "                                          monitor='val_f1score',\n",
    "                                          verbose=1,\n",
    "                                          save_best_only=True,\n",
    "                                          mode='max',\n",
    "                                          period=1)\n"
   ]
  },
  {
   "attachments": {},
   "cell_type": "markdown",
   "metadata": {},
   "source": [
    "**MODEL TRAINIG**"
   ]
  },
  {
   "cell_type": "code",
   "execution_count": 106,
   "metadata": {},
   "outputs": [
    {
     "name": "stdout",
     "output_type": "stream",
     "text": [
      "Epoch 1/30\n"
     ]
    },
    {
     "ename": "ValueError",
     "evalue": "in user code:\n\n    File \"c:\\Users\\Windows\\Desktop\\Magistrale\\venv\\lib\\site-packages\\keras\\engine\\training.py\", line 1160, in train_function  *\n        return step_function(self, iterator)\n    File \"c:\\Users\\Windows\\Desktop\\Magistrale\\venv\\lib\\site-packages\\keras\\engine\\training.py\", line 1146, in step_function  **\n        outputs = model.distribute_strategy.run(run_step, args=(data,))\n    File \"c:\\Users\\Windows\\Desktop\\Magistrale\\venv\\lib\\site-packages\\keras\\engine\\training.py\", line 1135, in run_step  **\n        outputs = model.train_step(data)\n    File \"c:\\Users\\Windows\\Desktop\\Magistrale\\venv\\lib\\site-packages\\keras\\engine\\training.py\", line 993, in train_step\n        y_pred = self(x, training=True)\n    File \"c:\\Users\\Windows\\Desktop\\Magistrale\\venv\\lib\\site-packages\\keras\\utils\\traceback_utils.py\", line 70, in error_handler\n        raise e.with_traceback(filtered_tb) from None\n    File \"c:\\Users\\Windows\\Desktop\\Magistrale\\venv\\lib\\site-packages\\keras\\engine\\input_spec.py\", line 295, in assert_input_compatibility\n        raise ValueError(\n\n    ValueError: Input 0 of layer \"model\" is incompatible with the layer: expected shape=(None, 4500, 4), found shape=(150, 4)\n",
     "output_type": "error",
     "traceback": [
      "\u001b[1;31m---------------------------------------------------------------------------\u001b[0m",
      "\u001b[1;31mValueError\u001b[0m                                Traceback (most recent call last)",
      "Cell \u001b[1;32mIn[106], line 2\u001b[0m\n\u001b[0;32m      1\u001b[0m steps \u001b[39m=\u001b[39m \u001b[39m4500\u001b[39m\u001b[39m/\u001b[39m\u001b[39m/\u001b[39m\u001b[39m150\u001b[39m\n\u001b[1;32m----> 2\u001b[0m history1 \u001b[39m=\u001b[39m model\u001b[39m.\u001b[39;49mfit(X_train, \u001b[39m#Give the generator as input data\u001b[39;49;00m\n\u001b[0;32m      3\u001b[0m           validation_data \u001b[39m=\u001b[39;49m (X_test,y_test), \u001b[39m#Give directly all images and labels for the validation set. \u001b[39;49;00m\n\u001b[0;32m      4\u001b[0m           epochs \u001b[39m=\u001b[39;49m \u001b[39m30\u001b[39;49m, steps_per_epoch \u001b[39m=\u001b[39;49m steps,\n\u001b[0;32m      5\u001b[0m           callbacks \u001b[39m=\u001b[39;49m[earlystopper,checkpointer_val_f1score], \u001b[39m#Multiple checkpointer can be considered\u001b[39;49;00m\n\u001b[0;32m      6\u001b[0m           verbose \u001b[39m=\u001b[39;49m\u001b[39m1\u001b[39;49m)\n",
      "File \u001b[1;32mc:\\Users\\Windows\\Desktop\\Magistrale\\venv\\lib\\site-packages\\keras\\utils\\traceback_utils.py:70\u001b[0m, in \u001b[0;36mfilter_traceback.<locals>.error_handler\u001b[1;34m(*args, **kwargs)\u001b[0m\n\u001b[0;32m     67\u001b[0m     filtered_tb \u001b[39m=\u001b[39m _process_traceback_frames(e\u001b[39m.\u001b[39m__traceback__)\n\u001b[0;32m     68\u001b[0m     \u001b[39m# To get the full stack trace, call:\u001b[39;00m\n\u001b[0;32m     69\u001b[0m     \u001b[39m# `tf.debugging.disable_traceback_filtering()`\u001b[39;00m\n\u001b[1;32m---> 70\u001b[0m     \u001b[39mraise\u001b[39;00m e\u001b[39m.\u001b[39mwith_traceback(filtered_tb) \u001b[39mfrom\u001b[39;00m \u001b[39mNone\u001b[39m\n\u001b[0;32m     71\u001b[0m \u001b[39mfinally\u001b[39;00m:\n\u001b[0;32m     72\u001b[0m     \u001b[39mdel\u001b[39;00m filtered_tb\n",
      "File \u001b[1;32m~\\AppData\\Local\\Temp\\__autograph_generated_file56e0ek8t.py:15\u001b[0m, in \u001b[0;36mouter_factory.<locals>.inner_factory.<locals>.tf__train_function\u001b[1;34m(iterator)\u001b[0m\n\u001b[0;32m     13\u001b[0m \u001b[39mtry\u001b[39;00m:\n\u001b[0;32m     14\u001b[0m     do_return \u001b[39m=\u001b[39m \u001b[39mTrue\u001b[39;00m\n\u001b[1;32m---> 15\u001b[0m     retval_ \u001b[39m=\u001b[39m ag__\u001b[39m.\u001b[39mconverted_call(ag__\u001b[39m.\u001b[39mld(step_function), (ag__\u001b[39m.\u001b[39mld(\u001b[39mself\u001b[39m), ag__\u001b[39m.\u001b[39mld(iterator)), \u001b[39mNone\u001b[39;00m, fscope)\n\u001b[0;32m     16\u001b[0m \u001b[39mexcept\u001b[39;00m:\n\u001b[0;32m     17\u001b[0m     do_return \u001b[39m=\u001b[39m \u001b[39mFalse\u001b[39;00m\n",
      "\u001b[1;31mValueError\u001b[0m: in user code:\n\n    File \"c:\\Users\\Windows\\Desktop\\Magistrale\\venv\\lib\\site-packages\\keras\\engine\\training.py\", line 1160, in train_function  *\n        return step_function(self, iterator)\n    File \"c:\\Users\\Windows\\Desktop\\Magistrale\\venv\\lib\\site-packages\\keras\\engine\\training.py\", line 1146, in step_function  **\n        outputs = model.distribute_strategy.run(run_step, args=(data,))\n    File \"c:\\Users\\Windows\\Desktop\\Magistrale\\venv\\lib\\site-packages\\keras\\engine\\training.py\", line 1135, in run_step  **\n        outputs = model.train_step(data)\n    File \"c:\\Users\\Windows\\Desktop\\Magistrale\\venv\\lib\\site-packages\\keras\\engine\\training.py\", line 993, in train_step\n        y_pred = self(x, training=True)\n    File \"c:\\Users\\Windows\\Desktop\\Magistrale\\venv\\lib\\site-packages\\keras\\utils\\traceback_utils.py\", line 70, in error_handler\n        raise e.with_traceback(filtered_tb) from None\n    File \"c:\\Users\\Windows\\Desktop\\Magistrale\\venv\\lib\\site-packages\\keras\\engine\\input_spec.py\", line 295, in assert_input_compatibility\n        raise ValueError(\n\n    ValueError: Input 0 of layer \"model\" is incompatible with the layer: expected shape=(None, 4500, 4), found shape=(150, 4)\n"
     ]
    }
   ],
   "source": [
    "steps = 4500//150\n",
    "history1 = model.fit(X_train, #Give the generator as input data\n",
    "          validation_data = (X_test,y_test), #Give directly all images and labels for the validation set. \n",
    "          epochs = 30, steps_per_epoch = steps,\n",
    "          callbacks =[earlystopper,checkpointer_val_f1score], #Multiple checkpointer can be considered\n",
    "          verbose =1)"
   ]
  }
 ],
 "metadata": {
  "kernelspec": {
   "display_name": "venv",
   "language": "python",
   "name": "python3"
  },
  "language_info": {
   "codemirror_mode": {
    "name": "ipython",
    "version": 3
   },
   "file_extension": ".py",
   "mimetype": "text/x-python",
   "name": "python",
   "nbconvert_exporter": "python",
   "pygments_lexer": "ipython3",
   "version": "3.9.0"
  },
  "orig_nbformat": 4,
  "vscode": {
   "interpreter": {
    "hash": "391ef4e8e06794bc91b48cf1f6f548f594b75b51d22d1440b591504ac03f6be2"
   }
  }
 },
 "nbformat": 4,
 "nbformat_minor": 2
}
